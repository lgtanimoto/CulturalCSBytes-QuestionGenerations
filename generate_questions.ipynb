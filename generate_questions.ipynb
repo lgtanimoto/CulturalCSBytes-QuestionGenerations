{
 "cells": [
  {
   "attachments": {},
   "cell_type": "markdown",
   "metadata": {},
   "source": [
    "# Getting Started\n",
    "\n",
    "**Useful Documentation:**\n",
    "* [Langchain](https://python.langchain.com/docs/)\n",
    "* [Beautiful Soup](https://beautiful-soup-4.readthedocs.io/en/latest/#quick-start)\n",
    "* [CCSB GitHub Repo](https://github.com/lgtanimoto/CulturalCSBytes/tree/main)\n",
    "\n",
    "**Installations:**\n",
    "```bash\n",
    "$ pip install beautifulsoup4\n",
    "$ pip install langchain\n",
    "$ pip install python-dotenv\n",
    "$ pip install requests\n",
    "$ pip install tqdm\n",
    "```\n",
    "\n",
    "**Imports:**"
   ]
  },
  {
   "cell_type": "code",
   "execution_count": 403,
   "metadata": {},
   "outputs": [],
   "source": [
    "# built-in python modules\n",
    "import json\n",
    "import os\n",
    "import re\n",
    "from io import StringIO\n",
    "from html.parser import HTMLParser\n",
    "import random\n",
    "from typing import Dict, List\n",
    "from tqdm import tqdm\n",
    "\n",
    "# langchain\n",
    "from langchain.llms import OpenAI\n",
    "from langchain.chat_models import ChatOpenAI\n",
    "from langchain.schema import HumanMessage, SystemMessage, AIMessage\n",
    "from langchain.prompts import FewShotPromptTemplate, PromptTemplate\n",
    "from langchain.prompts.example_selector.base import BaseExampleSelector\n",
    "\n",
    "# python libraries\n",
    "from dotenv import load_dotenv\n",
    "from bs4 import BeautifulSoup\n",
    "import requests\n",
    "import warnings"
   ]
  },
  {
   "attachments": {},
   "cell_type": "markdown",
   "metadata": {},
   "source": [
    "**Set-up OpenAI API Key**:\n",
    "* generate a secret key in the [openai API key manager](https://platform.openai.com/account/api-keys)\n",
    "* create a .env file with the environmental variable\n",
    "```openai_api_key=insert_your_key_here```\n",
    "* load in the api key by running the following code block"
   ]
  },
  {
   "cell_type": "code",
   "execution_count": 404,
   "metadata": {},
   "outputs": [],
   "source": [
    "load_dotenv()\n",
    "openai_api_key = os.getenv(\"openai_api_key\")\n",
    "with warnings.catch_warnings():\n",
    "    warnings.simplefilter(\"ignore\")\n",
    "    llm = OpenAI(model_name=\"gpt-4\", openai_api_key=openai_api_key)\n",
    "chat_turbo = ChatOpenAI(temperature=0, openai_api_key=openai_api_key, model_name=\"gpt-3.5-turbo\")"
   ]
  },
  {
   "cell_type": "code",
   "execution_count": 323,
   "metadata": {},
   "outputs": [],
   "source": [
    "FILE_PREF = \"object_data\\\\\"\n",
    "\n",
    "def write_json(data, filename):\n",
    "    with open(filename, 'w') as f:\n",
    "        json.dump(data, f, indent=4)\n",
    "\n",
    "def read_json(filename):\n",
    "    with open(FILE_PREF + filename, 'r') as f:\n",
    "        data = json.load(f)\n",
    "    return data"
   ]
  },
  {
   "attachments": {},
   "cell_type": "markdown",
   "metadata": {},
   "source": [
    "**Load Example Questions from the [GitHub Repo](https://github.com/lgtanimoto/CulturalCSBytes/tree/main/content/A000/A000/)**\n",
    "\n",
    "Note: we scrape the 50 default-culture questions to use as examples when generating new questions."
   ]
  },
  {
   "cell_type": "code",
   "execution_count": 295,
   "metadata": {},
   "outputs": [],
   "source": [
    "# scrape default questions\n",
    "URL = \"https://github.com/lgtanimoto/CulturalCSBytes/tree/main/content/A000/A000\"\n",
    "page = requests.get(URL)\n",
    "soup = BeautifulSoup(page.content, \"html.parser\")\n",
    "\n",
    "# get all links to CCSB question json files\n",
    "links = [(\"https://raw.githubusercontent.com\" + link['href'].replace(\"blob/\",\"\")) for link in soup.find_all(\"a\") if \".json\" in link['href']]\n",
    "# list of JSON objects for default questions\n",
    "default_questions = [json.loads(requests.get(link).text) for link in links]"
   ]
  },
  {
   "cell_type": "code",
   "execution_count": 298,
   "metadata": {},
   "outputs": [],
   "source": [
    "# read default questions from file\n",
    "default_questions = read_json(\"default_questions.json\")"
   ]
  },
  {
   "cell_type": "code",
   "execution_count": null,
   "metadata": {},
   "outputs": [],
   "source": [
    "# Strip HTML from string\n",
    "class MLStripper(HTMLParser):\n",
    "    def __init__(self):\n",
    "        super().__init__()\n",
    "        self.reset()\n",
    "        self.strict = False\n",
    "        self.convert_charrefs= True\n",
    "        self.text = StringIO()\n",
    "    def handle_data(self, d):\n",
    "        self.text.write(d)\n",
    "    def get_data(self):\n",
    "        return self.text.getvalue()\n",
    "\n",
    "def strip_tags(html):\n",
    "    s = MLStripper()\n",
    "    s.feed(html)\n",
    "    return s.get_data()\n",
    "\n",
    "# remove unwanted fields from dictionary\n",
    "def remove_fields(question, fields=['FixedOrderFromBottom', 'AnswerImage', 'QuestionImage']):\n",
    "    for field in fields:\n",
    "        if field in question.keys():\n",
    "            question.pop(field)"
   ]
  },
  {
   "attachments": {},
   "cell_type": "markdown",
   "metadata": {},
   "source": [
    "Create learning objective list and groupings."
   ]
  },
  {
   "cell_type": "code",
   "execution_count": null,
   "metadata": {},
   "outputs": [],
   "source": [
    "# read list of learning standards (objectives) with the full 6-character code from file\n",
    "raw_objectives = read_json(\"raw_objectives.json\")"
   ]
  },
  {
   "cell_type": "code",
   "execution_count": 302,
   "metadata": {},
   "outputs": [],
   "source": [
    "# stores learning objectives in groups accessed by abbreviated one letter group name key\n",
    "group_names = read_json(\"lo_group_names.json\")\n",
    "\n",
    "lo_code_groups = {\n",
    "    'C': [],\n",
    "    'N': [],\n",
    "    'D': [],\n",
    "    'A': [],\n",
    "    'I': [],\n",
    "}"
   ]
  },
  {
   "cell_type": "code",
   "execution_count": 304,
   "metadata": {},
   "outputs": [],
   "source": [
    "# list of learning standards (objectives) with abbreviated 4-character codes\n",
    "lo_list = dict()\n",
    "\n",
    "'''schema conversion:\n",
    "First character 1A - 1, 1B - 2, 2 - 3, 3A - 4, 3B - 5\n",
    "Second character is first character after dash\n",
    "last two characters is the number at the end\n",
    "'''\n",
    "level_conversions = {\n",
    "    \"1A\": \"1\",\n",
    "    \"1B\": \"2\",\n",
    "    \"2\": \"3\",\n",
    "    \"3A\": \"4\",\n",
    "    \"3B\": \"5\",\n",
    "}\n",
    "\n",
    "# Convert raw objectives' full 6-character codes to the abbreviated 4-character codes and categorize into the lo_code_groups\n",
    "for k, v in raw_objectives.items():\n",
    "    code_parts = k.split(\"-\")\n",
    "    level = code_parts[0]\n",
    "    lo_group = code_parts[1][0]\n",
    "    q_num = code_parts[2]\n",
    "\n",
    "    abbrev_code = level_conversions[level] + lo_group + q_num\n",
    "    lo_list[abbrev_code] = v\n",
    "    lo_code_groups[lo_group].append(abbrev_code)\n"
   ]
  },
  {
   "cell_type": "code",
   "execution_count": null,
   "metadata": {},
   "outputs": [],
   "source": [
    "# read in learning objective list from file\n",
    "lo_list = read_json(\"learning_objectives.json\")\n",
    "\n",
    "# read in learning objective groups dictionary from file\n",
    "lo_code_groups = read_json(\"lo_code_groups.json\")"
   ]
  },
  {
   "attachments": {},
   "cell_type": "markdown",
   "metadata": {},
   "source": [
    "Create examples list."
   ]
  },
  {
   "cell_type": "code",
   "execution_count": 311,
   "metadata": {},
   "outputs": [],
   "source": [
    "# read few-shot examples for topic extraction from file\n",
    "with open(FILE_PREF + \"topic_extraction_examples.txt\", 'r') as topextr_file:\n",
    "    topic_extraction_examples = topextr_file.read()  # few-shot example string for topic extraction from default questions"
   ]
  },
  {
   "cell_type": "code",
   "execution_count": null,
   "metadata": {},
   "outputs": [],
   "source": [
    "### Create Examples List\n",
    "\n",
    "examples = []\n",
    "\n",
    "for i, dq in enumerate(default_questions):\n",
    "    q = dq['QuestionJSON']\n",
    "\n",
    "    q['CorrectAnswer'] = str(q['CorrectAnswer'])\n",
    "\n",
    "    remove_fields(q)\n",
    "    for k in q.keys():\n",
    "        q[k] = strip_tags(q[k])\n",
    "\n",
    "    example = {\n",
    "        'MQCode': dq['MQCode'],\n",
    "        'learning_objective': lo_list[dq['MQCode']],\n",
    "        'topic': None,\n",
    "        'question_str': json.dumps(q, indent=4)\n",
    "    }\n",
    "\n",
    "    topic = chat_turbo([\n",
    "        SystemMessage(content=topic_extraction_examples),\n",
    "        HumanMessage(content=json.dumps(q, indent=4))\n",
    "    ]).content\n",
    "\n",
    "    example['topic'] = topic\n",
    "    examples.append(example)\n"
   ]
  },
  {
   "cell_type": "code",
   "execution_count": null,
   "metadata": {},
   "outputs": [],
   "source": [
    "### Full List of Examples. (result of previous cell)\n",
    "examples = read_json(\"default_question_examples.json\")"
   ]
  },
  {
   "attachments": {},
   "cell_type": "markdown",
   "metadata": {},
   "source": [
    "Add coding examples."
   ]
  },
  {
   "cell_type": "code",
   "execution_count": null,
   "metadata": {},
   "outputs": [],
   "source": [
    "with open(FILE_PREF + \"codeexamples.txt\", 'r') as file:\n",
    "    content = file.read()\n",
    "\n",
    "coding_content = re.split(r\"\\*\\* (\\w{4}) \\*\\*\", content)[1:]\n",
    "\n",
    "mqCodes = [mqcode for i, mqcode in enumerate(coding_content) if i % 2 == 0]\n",
    "coding_snippets = [snippet for i, snippet in enumerate(coding_content) if i % 2 == 1]\n",
    "\n",
    "idxs = []\n",
    "for i, ex in enumerate(examples):\n",
    "    if ex['MQCode'] in mqCodes:\n",
    "        idxs.append(i)\n",
    "        \n",
    "coding_q_exs = []\n",
    "for idx, code_snippet in zip(idxs, coding_snippets):\n",
    "    updated_q = examples[idx]\n",
    "    q_json = json.loads(updated_q['question_str'])\n",
    "    q_json['code_snippet'] = code_snippet[2:-2]\n",
    "    updated_q['question_str'] = json.dumps(q_json, indent=4)\n",
    "    coding_q_exs.append(updated_q)\n"
   ]
  },
  {
   "cell_type": "code",
   "execution_count": 284,
   "metadata": {},
   "outputs": [],
   "source": [
    "### read in list of coding examples. (result of previous cell)\n",
    "coding_q_exs = read_json(\"coding_question_examples.json\")"
   ]
  },
  {
   "attachments": {},
   "cell_type": "markdown",
   "metadata": {},
   "source": [
    "Define interest area categories and subtopics."
   ]
  },
  {
   "cell_type": "code",
   "execution_count": 289,
   "metadata": {},
   "outputs": [],
   "source": [
    "# list of interest areas\n",
    "interest_areas = read_json(\"interest_areas.json\")\n",
    "\n",
    "# dictionary of subtopics within each interest area\n",
    "interests = read_json(\"interests.json\")"
   ]
  },
  {
   "cell_type": "code",
   "execution_count": null,
   "metadata": {},
   "outputs": [],
   "source": [
    "# categorize examples by learning objective group\n",
    "ex_groups = {\n",
    "    'C': [],\n",
    "    'N': [],\n",
    "    'D': [],\n",
    "    'A': [],\n",
    "    'I': [],\n",
    "}\n",
    "\n",
    "for ex in examples:\n",
    "    ex_groups[ex['MQCode'][1]].append(ex)"
   ]
  },
  {
   "attachments": {},
   "cell_type": "markdown",
   "metadata": {},
   "source": [
    "Create Few-Shot Example Question Template"
   ]
  },
  {
   "cell_type": "code",
   "execution_count": null,
   "metadata": {},
   "outputs": [],
   "source": [
    "# Create custom example selector that chooses examples from the same \n",
    "# learning objective group as the target learning objective\n",
    "\n",
    "class CustomExampleSelector(BaseExampleSelector):\n",
    "    def __init__(self, examples: List[Dict[str, str]]):\n",
    "        self.examples = examples\n",
    "    def add_example(self, example: Dict[str, str]) -> None:\n",
    "        # Add new example to store for a key.\n",
    "        self.examples.append(example)\n",
    "    def select_examples(self, input_variables: Dict[str, str]) -> List[dict]:\n",
    "        # Select which examples to use based on the inputs.\n",
    "        for code, obj in lo_list.items():\n",
    "            if obj == input_variables['learning_objective']:\n",
    "                similar_exs = ex_groups[code[1]]\n",
    "                few_exs = random.sample(similar_exs, min(len(similar_exs), 3))\n",
    "                return few_exs"
   ]
  },
  {
   "cell_type": "code",
   "execution_count": null,
   "metadata": {},
   "outputs": [],
   "source": [
    "# Instruct GPT-4 Few-Shot Example Template\n",
    "\n",
    "question_template = \"\"\"Learning objective: {learning_objective}\\nTopic: {topic}\\nQuestion:\\n```json\\n{{{question_str}}}\\n```\"\"\"\n",
    "\n",
    "example_prompt = PromptTemplate(\n",
    "    input_variables=[\"learning_objective\", \"topic\", \"question_str\"],\n",
    "    template=question_template,\n",
    ")\n",
    "\n",
    "def make_prompt(coding: bool = False) -> FewShotPromptTemplate:\n",
    "    if coding:\n",
    "        exs = random.sample(coding_q_exs, min(len(coding_q_exs), 3))\n",
    "        few_shot_prompt = FewShotPromptTemplate(\n",
    "            examples=exs,\n",
    "            example_prompt=example_prompt,\n",
    "            prefix=\"\"\"System Message: You are a high school computer science teacher who wants to connect CS concepts to the diverse interests of your students so that they can better see themselves working in CS. Applications of CS to different fields of study often have similar solutions in code and teach the same underlying CS principles. And by seeing questions related to a wide variety of disciplines, students can better appreciate that CS is everywhere, for everyone, and that the essence of good computer science is to find the common patterns in problems from all aspects of life and to develop solutions for them.\\n\\nTask: Given a CS learning objective and a topic of interest to your students, generate a question in JSON format that applies the learning objective to a scenario related to the provided topic. The question should involve a code snippet specified in the quorum programming language as shown in the example questions.\"\"\",    \n",
    "            suffix=\"Learning objective: {learning_objective}\\nTopic: {topic}\\nQuestion:\",\n",
    "            input_variables=[\"learning_objective\", \"topic\"]\n",
    "        )\n",
    "    else:\n",
    "        example_selector = CustomExampleSelector(examples)\n",
    "        few_shot_prompt = FewShotPromptTemplate(\n",
    "            example_selector=example_selector,\n",
    "            example_prompt=example_prompt,\n",
    "            prefix=\"\"\"System Message: You are a high school computer science teacher who wants to connect CS concepts to the diverse interests of your students so that they can better see themselves working in CS. Applications of CS to different fields of study often have similar solutions in code and teach the same underlying CS principles. And by seeing questions related to a wide variety of disciplines, students can better appreciate that CS is everywhere, for everyone, and that the essence of good computer science is to find the common patterns in problems from all aspects of life and to develop solutions for them.\\n\\nTask: Given a CS learning objective and a topic of interest to your students, generate a question in JSON format that applies the learning objective to a scenario related to the provided topic. Specify the content of any charts or graphics referenced in your question.\"\"\",    \n",
    "            suffix=\"Learning objective: {learning_objective}\\nTopic: {topic}\\nQuestion:\",\n",
    "            input_variables=[\"learning_objective\", \"topic\"]\n",
    "        )\n",
    "    return few_shot_prompt\n"
   ]
  },
  {
   "attachments": {},
   "cell_type": "markdown",
   "metadata": {},
   "source": [
    "Generate Questions."
   ]
  },
  {
   "cell_type": "code",
   "execution_count": null,
   "metadata": {},
   "outputs": [],
   "source": [
    "def generate_qs(folder_path: str, coding: bool = False) -> list[dict]:\n",
    "    # generate questions for each interest and learning objective group\n",
    "    generated_qs = []\n",
    "    for area, topic_list in list(interests.items()):\n",
    "        for topic in topic_list[:1]:\n",
    "            # randomly select learning standard\n",
    "            lo_code, obj = random.choice(list(lo_list.items()))\n",
    "            #print(f\"Interest: {topic}\\nLearning Objective: {lo_code}. {obj}\\n\")\n",
    "            \n",
    "            # create prompt\n",
    "            prompt = make_prompt(coding).format(learning_objective=obj, topic=topic)\n",
    "            print(prompt)\n",
    "\n",
    "            # get gpt-4 response\n",
    "            res = llm(prompt)\n",
    "            q_str = \"{\" + res.split(\"{\")[-1].split(\"}\")[0] + \"}\"\n",
    "            print(q_str + \"\\n\")\n",
    "            q = {\n",
    "                'learning_objective': obj,\n",
    "                'interest_area': area,\n",
    "                'topic': topic,\n",
    "                'MQCode': lo_code,\n",
    "                'question_str': q_str,\n",
    "            }\n",
    "            generated_qs.append(q)\n",
    "\n",
    "            # output question json to file\n",
    "            f_name = q['MQCode'] + \"-\" + q['topic'].replace(\" \", \"_\")\n",
    "            write_json(q, folder_path + f_name)\n",
    "\n",
    "    return generated_qs\n"
   ]
  },
  {
   "cell_type": "code",
   "execution_count": null,
   "metadata": {},
   "outputs": [],
   "source": [
    "# generate questions\n",
    "coding = True\n",
    "folder_path = \"coding_questions\\\\6-28-2023\\\\\"\n",
    "qs = generate_qs(folder_path, coding)"
   ]
  },
  {
   "cell_type": "code",
   "execution_count": null,
   "metadata": {},
   "outputs": [],
   "source": [
    "# check a code snipped\n",
    "q_idx = 0\n",
    "print(json.loads(qs[q_idx]['question_str'])['code_snippet'])"
   ]
  },
  {
   "cell_type": "code",
   "execution_count": null,
   "metadata": {},
   "outputs": [],
   "source": []
  },
  {
   "cell_type": "code",
   "execution_count": null,
   "metadata": {},
   "outputs": [],
   "source": []
  }
 ],
 "metadata": {
  "kernelspec": {
   "display_name": "Python 3",
   "language": "python",
   "name": "python3"
  },
  "language_info": {
   "codemirror_mode": {
    "name": "ipython",
    "version": 3
   },
   "file_extension": ".py",
   "mimetype": "text/x-python",
   "name": "python",
   "nbconvert_exporter": "python",
   "pygments_lexer": "ipython3",
   "version": "3.9.13"
  },
  "orig_nbformat": 4
 },
 "nbformat": 4,
 "nbformat_minor": 2
}
